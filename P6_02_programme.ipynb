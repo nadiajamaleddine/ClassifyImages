{
 "cells": [
  {
   "cell_type": "raw",
   "id": "179b1cc9",
   "metadata": {},
   "source": [
    "Nous allons développer un script pour permettre la prédiction de la race du chien à partir d'une photo. Notre modèle pré-entrainé servira de base. Pour cela, nous allons utiliser Gradio pour importer les images (inputs) et appliquer notre classifier afin de retourner la prédiction"
   ]
  },
  {
   "cell_type": "code",
   "execution_count": 27,
   "id": "90fdbcd9",
   "metadata": {},
   "outputs": [],
   "source": [
    "import tensorflow as tf\n",
    "from tensorflow.keras import backend as K\n",
    "from tensorflow.keras.models import load_model\n",
    "import cv2 as cv\n",
    "import gradio as gr"
   ]
  },
  {
   "cell_type": "code",
   "execution_count": 28,
   "id": "adeb7f0b",
   "metadata": {},
   "outputs": [],
   "source": [
    "def recall_m(y_true, y_pred):\n",
    "    true_positives = K.sum(K.round(K.clip(y_true * y_pred, 0, 1)))\n",
    "    possible_positives = K.sum(K.round(K.clip(y_true, 0, 1)))\n",
    "    recall = true_positives / (possible_positives + K.epsilon())\n",
    "    return recall\n",
    "\n",
    "def precision_m(y_true, y_pred):\n",
    "    true_positives = K.sum(K.round(K.clip(y_true * y_pred, 0, 1)))\n",
    "    predicted_positives = K.sum(K.round(K.clip(y_pred, 0, 1)))\n",
    "    precision = true_positives / (predicted_positives + K.epsilon())\n",
    "    return precision\n",
    "\n",
    "def f1_m(y_true, y_pred):\n",
    "    precision = precision_m(y_true, y_pred)\n",
    "    recall = recall_m(y_true, y_pred)\n",
    "    return 2*((precision*recall)/(precision+recall+K.epsilon()))"
   ]
  },
  {
   "cell_type": "code",
   "execution_count": 29,
   "id": "cdc66c78",
   "metadata": {},
   "outputs": [],
   "source": [
    "# charger le modèle\n",
    "model = load_model('./xception_hypermodel.h5', custom_objects={\"f1_m\": f1_m})"
   ]
  },
  {
   "cell_type": "code",
   "execution_count": 30,
   "id": "1e61cfa5",
   "metadata": {},
   "outputs": [],
   "source": [
    "races_labels = ['Australian_terrier', 'Chihuahua', 'English_setter', 'French_bulldog',\n",
    " 'German_shepherd', 'Labrador_retriever', 'Staffordshire_bullterrier',\n",
    " 'beagle', 'cocker_spaniel,' 'golden_retriever']"
   ]
  },
  {
   "cell_type": "code",
   "execution_count": 31,
   "id": "1037ecb6",
   "metadata": {},
   "outputs": [
    {
     "name": "stdout",
     "output_type": "stream",
     "text": [
      "IMPORTANT: You are using gradio version 2.2.15, however version 2.4.2 is available, please upgrade.\n",
      "--------\n",
      "Running on local URL:  http://127.0.0.1:7882/\n",
      "\n",
      "This share link will expire in 72 hours. To get longer links, send an email to: support@gradio.app\n",
      "Running on public URL: https://47464.gradio.app\n",
      "Interface loading below...\n"
     ]
    },
    {
     "data": {
      "text/html": [
       "\n",
       "        <iframe\n",
       "            width=\"900\"\n",
       "            height=\"500\"\n",
       "            src=\"https://47464.gradio.app\"\n",
       "            frameborder=\"0\"\n",
       "            allowfullscreen\n",
       "        ></iframe>\n",
       "        "
      ],
      "text/plain": [
       "<IPython.lib.display.IFrame at 0x1ec0d1d85e0>"
      ]
     },
     "metadata": {},
     "output_type": "display_data"
    },
    {
     "data": {
      "text/plain": [
       "(<Flask 'gradio.networking'>,\n",
       " 'http://127.0.0.1:7882/',\n",
       " 'https://47464.gradio.app')"
      ]
     },
     "execution_count": 31,
     "metadata": {},
     "output_type": "execute_result"
    }
   ],
   "source": [
    "# Définir la fonction de prédiction complète\n",
    "def races_prediction(inp):\n",
    "    # Convertir en RGB\n",
    "    img = cv.cvtColor(inp,cv.COLOR_BGR2RGB)\n",
    "    # Redimensionner l'image\n",
    "    dim = (299, 299)\n",
    "    img = cv.resize(img, dim, interpolation=cv.INTER_LINEAR)\n",
    "    # Equalization\n",
    "    img_yuv = cv.cvtColor(img,cv.COLOR_BGR2YUV)\n",
    "    img_yuv[:,:,0] = cv.equalizeHist(img_yuv[:,:,0])\n",
    "    img_equ = cv.cvtColor(img_yuv, cv.COLOR_YUV2RGB)\n",
    "    # Appliquer le filtre non-local means sur l'image de test  \n",
    "    dst_img = cv.fastNlMeansDenoisingColored(\n",
    "        src=img_equ,\n",
    "        dst=None,\n",
    "        h=10,\n",
    "        hColor=10,\n",
    "        templateWindowSize=7,\n",
    "        searchWindowSize=21)\n",
    "\n",
    "    # Convertir l'image modifiée en array\n",
    "    img_array = tf.keras.preprocessing.image.img_to_array(dst_img)\n",
    "    \n",
    "    # Appliquer le prétraitement Xception\n",
    "    img_array = img_array.reshape((-1, 299, 299, 3))\n",
    "    img_array = tf.keras.applications.xception.preprocess_input(img_array)\n",
    "    \n",
    "    # Predictions\n",
    "    prediction = model.predict(img_array).flatten()\n",
    "    \n",
    "    # retour de la prédiction\n",
    "    return {races_labels[i]: float(prediction[i]) for i in range(len(races_labels))}\n",
    "\n",
    "\n",
    "# Construire l'interface\n",
    "image = gr.inputs.Image(shape=(299,299))\n",
    "label = gr.outputs.Label(num_top_classes=3)\n",
    "\n",
    "gr.Interface(\n",
    "    fn=races_prediction,\n",
    "    inputs=image,\n",
    "    outputs=label,\n",
    "    capture_session=True\n",
    ").launch(share=True)"
   ]
  }
 ],
 "metadata": {
  "kernelspec": {
   "display_name": "Python 3 (ipykernel)",
   "language": "python",
   "name": "python3"
  },
  "language_info": {
   "codemirror_mode": {
    "name": "ipython",
    "version": 3
   },
   "file_extension": ".py",
   "mimetype": "text/x-python",
   "name": "python",
   "nbconvert_exporter": "python",
   "pygments_lexer": "ipython3",
   "version": "3.8.11"
  }
 },
 "nbformat": 4,
 "nbformat_minor": 5
}
